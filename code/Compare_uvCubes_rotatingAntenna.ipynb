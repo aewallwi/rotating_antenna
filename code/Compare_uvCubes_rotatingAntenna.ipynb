{
 "cells": [
  {
   "cell_type": "code",
   "execution_count": 8,
   "metadata": {
    "collapsed": false
   },
   "outputs": [
    {
     "name": "stdout",
     "output_type": "stream",
     "text": [
      "0.048252\n"
     ]
    }
   ],
   "source": [
    "%matplotlib inline\n",
    "import numpy as np\n",
    "import matplotlib.pyplot as plt\n",
    "import cosmology as cosmo"
   ]
  },
  {
   "cell_type": "code",
   "execution_count": 7,
   "metadata": {
    "collapsed": true
   },
   "outputs": [],
   "source": [
    "#function to grid visibilities\n",
    "def delayGrid(dataCube,du,uMax,nCells):\n",
    "    dGrid=np.zeros((dataCube.shape[-1]/2,nCells),dtype=complex)\n",
    "    counts=np.zeros(nCells).astype(int)\n",
    "    for uNum in range(dataCube.shape[0]):\n",
    "        for vNum in range(dataCube.shape[1]):\n",
    "            uVal=du*(uNum-dataCube.shape[0]/2)\n",
    "            vVal=du*(vNum-dataCube.shape[1]/2)\n",
    "            uvVal=np.sqrt(uVal**2.+vVal**2.)\n",
    "            binNum=np.round(uvVal/(uMax/nCells))\n",
    "            if(binNum<nCells and not(np.any(np.isnan(dataCube[uNum,vNum,:])))):\n",
    "                counts[binNum]+=1\n",
    "                dGrid[:,binNum]+=dataCube[uNum,vNum,dataCube.shape[-1]/2:]\n",
    "                dGrid[:,binNum]+=np.flipud(dataCube[uNum,vNum,:dataCube.shape[-1]/2])\n",
    "    for bNum in range(nCells):\n",
    "        if(counts[bNum]>0):\n",
    "            dGrid[:,bNum]/=counts[bNum]\n",
    "    return dGrid\n"
   ]
  },
  {
   "cell_type": "code",
   "execution_count": 10,
   "metadata": {
    "collapsed": false
   },
   "outputs": [
    {
     "name": "stdout",
     "output_type": "stream",
     "text": [
      "0.5\n",
      "(104, 104, 200)\n",
      "0.2\n",
      "(104, 104, 200)\n",
      "0.1\n",
      "(104, 104, 200)\n",
      "0.05\n",
      "(104, 104, 200)\n",
      "0.01\n",
      "(104, 104, 200)\n",
      "0.005\n",
      "(104, 104, 200)\n"
     ]
    }
   ],
   "source": [
    "cubeList=[np.load('uvCube_1day_217ant_defRes.npz'),\n",
    "          np.load('uvCube_1day_217ant_subRes.npz'),\n",
    "          np.load('uvCube_1day_217ant_overRes.npz'),\n",
    "          np.load('uvCube_1day_217ant_superRes.npz'),\n",
    "          np.load('uvCube_1day_217ant_hyperRes.npz'),\n",
    "          np.load('uvCube_1day_217ant_hyperhyperRes.npz')]\n",
    "for cube in cubeList:\n",
    "    print cube['du']\n",
    "    print cube['dCube'].shape"
   ]
  },
  {
   "cell_type": "code",
   "execution_count": null,
   "metadata": {
    "collapsed": true
   },
   "outputs": [],
   "source": []
  }
 ],
 "metadata": {
  "kernelspec": {
   "display_name": "Python 2",
   "language": "python",
   "name": "python2"
  },
  "language_info": {
   "codemirror_mode": {
    "name": "ipython",
    "version": 2
   },
   "file_extension": ".py",
   "mimetype": "text/x-python",
   "name": "python",
   "nbconvert_exporter": "python",
   "pygments_lexer": "ipython2",
   "version": "2.7.12"
  }
 },
 "nbformat": 4,
 "nbformat_minor": 1
}
